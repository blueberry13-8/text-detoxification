{
 "cells": [
  {
   "cell_type": "markdown",
   "id": "922502c6",
   "metadata": {
    "id": "NM16RGr-mBF_",
    "papermill": {
     "duration": 0.008314,
     "end_time": "2023-10-31T22:27:23.689349",
     "exception": false,
     "start_time": "2023-10-31T22:27:23.681035",
     "status": "completed"
    },
    "tags": []
   },
   "source": [
    "# Data preprocessing."
   ]
  },
  {
   "cell_type": "markdown",
   "id": "2a76a027",
   "metadata": {
    "id": "YEqWS_YMmBGD",
    "papermill": {
     "duration": 0.007539,
     "end_time": "2023-10-31T22:27:23.704749",
     "exception": false,
     "start_time": "2023-10-31T22:27:23.697210",
     "status": "completed"
    },
    "tags": []
   },
   "source": [
    "## Reading"
   ]
  },
  {
   "cell_type": "code",
   "execution_count": 1,
   "id": "822d58ed",
   "metadata": {
    "execution": {
     "iopub.execute_input": "2023-10-31T22:27:23.722046Z",
     "iopub.status.busy": "2023-10-31T22:27:23.721671Z",
     "iopub.status.idle": "2023-10-31T22:27:27.827560Z",
     "shell.execute_reply": "2023-10-31T22:27:27.826705Z"
    },
    "id": "Y_a9p76smBGF",
    "outputId": "fd974e86-ae24-43ed-d427-e62b35980599",
    "papermill": {
     "duration": 4.117733,
     "end_time": "2023-10-31T22:27:27.830202",
     "exception": false,
     "start_time": "2023-10-31T22:27:23.712469",
     "status": "completed"
    },
    "pycharm": {
     "name": "#%%\n"
    },
    "tags": []
   },
   "outputs": [
    {
     "data": {
      "text/html": [
       "<div>\n",
       "<style scoped>\n",
       "    .dataframe tbody tr th:only-of-type {\n",
       "        vertical-align: middle;\n",
       "    }\n",
       "\n",
       "    .dataframe tbody tr th {\n",
       "        vertical-align: top;\n",
       "    }\n",
       "\n",
       "    .dataframe thead th {\n",
       "        text-align: right;\n",
       "    }\n",
       "</style>\n",
       "<table border=\"1\" class=\"dataframe\">\n",
       "  <thead>\n",
       "    <tr style=\"text-align: right;\">\n",
       "      <th></th>\n",
       "      <th>reference</th>\n",
       "      <th>translation</th>\n",
       "      <th>similarity</th>\n",
       "      <th>lenght_diff</th>\n",
       "      <th>ref_tox</th>\n",
       "      <th>trn_tox</th>\n",
       "    </tr>\n",
       "  </thead>\n",
       "  <tbody>\n",
       "    <tr>\n",
       "      <th>0</th>\n",
       "      <td>If Alkar is flooding her with psychic waste, t...</td>\n",
       "      <td>if Alkar floods her with her mental waste, it ...</td>\n",
       "      <td>0.785171</td>\n",
       "      <td>0.010309</td>\n",
       "      <td>0.014195</td>\n",
       "      <td>0.981983</td>\n",
       "    </tr>\n",
       "    <tr>\n",
       "      <th>1</th>\n",
       "      <td>Now you're getting nasty.</td>\n",
       "      <td>you're becoming disgusting.</td>\n",
       "      <td>0.749687</td>\n",
       "      <td>0.071429</td>\n",
       "      <td>0.065473</td>\n",
       "      <td>0.999039</td>\n",
       "    </tr>\n",
       "    <tr>\n",
       "      <th>2</th>\n",
       "      <td>Well, we could spare your life, for one.</td>\n",
       "      <td>well, we can spare your life.</td>\n",
       "      <td>0.919051</td>\n",
       "      <td>0.268293</td>\n",
       "      <td>0.213313</td>\n",
       "      <td>0.985068</td>\n",
       "    </tr>\n",
       "    <tr>\n",
       "      <th>3</th>\n",
       "      <td>Ah! Monkey, you've got to snap out of it.</td>\n",
       "      <td>monkey, you have to wake up.</td>\n",
       "      <td>0.664333</td>\n",
       "      <td>0.309524</td>\n",
       "      <td>0.053362</td>\n",
       "      <td>0.994215</td>\n",
       "    </tr>\n",
       "    <tr>\n",
       "      <th>4</th>\n",
       "      <td>I've got orders to put her down.</td>\n",
       "      <td>I have orders to kill her.</td>\n",
       "      <td>0.726639</td>\n",
       "      <td>0.181818</td>\n",
       "      <td>0.009402</td>\n",
       "      <td>0.999348</td>\n",
       "    </tr>\n",
       "  </tbody>\n",
       "</table>\n",
       "</div>"
      ],
      "text/plain": [
       "                                           reference  \\\n",
       "0  If Alkar is flooding her with psychic waste, t...   \n",
       "1                          Now you're getting nasty.   \n",
       "2           Well, we could spare your life, for one.   \n",
       "3          Ah! Monkey, you've got to snap out of it.   \n",
       "4                   I've got orders to put her down.   \n",
       "\n",
       "                                         translation  similarity  lenght_diff  \\\n",
       "0  if Alkar floods her with her mental waste, it ...    0.785171     0.010309   \n",
       "1                        you're becoming disgusting.    0.749687     0.071429   \n",
       "2                      well, we can spare your life.    0.919051     0.268293   \n",
       "3                       monkey, you have to wake up.    0.664333     0.309524   \n",
       "4                         I have orders to kill her.    0.726639     0.181818   \n",
       "\n",
       "    ref_tox   trn_tox  \n",
       "0  0.014195  0.981983  \n",
       "1  0.065473  0.999039  \n",
       "2  0.213313  0.985068  \n",
       "3  0.053362  0.994215  \n",
       "4  0.009402  0.999348  "
      ]
     },
     "execution_count": 1,
     "metadata": {},
     "output_type": "execute_result"
    }
   ],
   "source": [
    "import pandas as pd\n",
    "\n",
    "extracted_dir = '../data/interim/'\n",
    "tsv_path = extracted_dir + 'filtered.tsv'\n",
    "tsv_file = pd.read_csv(tsv_path, sep='\\t', index_col=0)\n",
    "\n",
    "tsv_file.head()"
   ]
  },
  {
   "cell_type": "markdown",
   "id": "af39e90c",
   "metadata": {
    "id": "pltRQdp-mBGL",
    "papermill": {
     "duration": 0.00798,
     "end_time": "2023-10-31T22:27:27.847925",
     "exception": false,
     "start_time": "2023-10-31T22:27:27.839945",
     "status": "completed"
    },
    "tags": []
   },
   "source": [
    "## Dataset"
   ]
  },
  {
   "cell_type": "code",
   "execution_count": 2,
   "id": "74dbdc81",
   "metadata": {
    "execution": {
     "iopub.execute_input": "2023-10-31T22:27:27.865671Z",
     "iopub.status.busy": "2023-10-31T22:27:27.864997Z",
     "iopub.status.idle": "2023-10-31T22:27:27.869714Z",
     "shell.execute_reply": "2023-10-31T22:27:27.868671Z"
    },
    "id": "zBaw7HoHystc",
    "papermill": {
     "duration": 0.01589,
     "end_time": "2023-10-31T22:27:27.871785",
     "exception": false,
     "start_time": "2023-10-31T22:27:27.855895",
     "status": "completed"
    },
    "tags": []
   },
   "outputs": [],
   "source": [
    "UNK_IDX, PAD_IDX, BOS_IDX, EOS_IDX = 0, 1, 2, 3\n",
    "special_symbols = ['<unk>', '<pad>', '<bos>', '<eos>']"
   ]
  },
  {
   "cell_type": "code",
   "execution_count": 3,
   "id": "eba88c10",
   "metadata": {
    "execution": {
     "iopub.execute_input": "2023-10-31T22:27:27.889788Z",
     "iopub.status.busy": "2023-10-31T22:27:27.889194Z",
     "iopub.status.idle": "2023-10-31T22:27:34.102762Z",
     "shell.execute_reply": "2023-10-31T22:27:34.101952Z"
    },
    "id": "tjhU51dXmBGM",
    "papermill": {
     "duration": 6.225243,
     "end_time": "2023-10-31T22:27:34.105187",
     "exception": false,
     "start_time": "2023-10-31T22:27:27.879944",
     "status": "completed"
    },
    "pycharm": {
     "name": "#%%\n"
    },
    "tags": []
   },
   "outputs": [
    {
     "name": "stderr",
     "output_type": "stream",
     "text": [
      "/opt/conda/lib/python3.10/site-packages/scipy/__init__.py:146: UserWarning: A NumPy version >=1.16.5 and <1.23.0 is required for this version of SciPy (detected version 1.23.5\n",
      "  warnings.warn(f\"A NumPy version >={np_minversion} and <{np_maxversion}\"\n"
     ]
    }
   ],
   "source": [
    "import torch\n",
    "import nltk\n",
    "from nltk.tokenize import word_tokenize\n",
    "from torch.utils.data import Dataset\n",
    "from collections import Counter\n",
    "import torchtext\n",
    "import numpy as np\n",
    "import random\n",
    "\n",
    "\n",
    "torch.manual_seed(123)\n",
    "random.seed(123)\n",
    "np.random.seed(123)\n",
    "\n",
    "nltk.download('punkt', quiet=True)\n",
    "nltk.download('stopwords', quiet=True)\n",
    "\n",
    "\n",
    "class DeToxicityDataset(Dataset):\n",
    "    def __init__(self, dataframe, to_remove_word_cnt=2, vocab=None, tox_diff=0.9):\n",
    "        \"\"\"\n",
    "        Initialize a DeToxicityDataset.\n",
    "\n",
    "        Args:\n",
    "            dataframe (pandas.DataFrame): The input DataFrame containing toxic text data.\n",
    "            to_remove_word_cnt (int): The count of occurrences to remove less frequent words from the vocabulary.\n",
    "            vocab (torchtext.legacy.data.Field): A predefined vocabulary for tokenization (optional).\n",
    "            tox_diff (float): The toxicity difference threshold for filtering data.\n",
    "        \"\"\"\n",
    "        self.df = dataframe\n",
    "        self._preprocess_sentences(to_remove_word_cnt, tox_diff)\n",
    "        assert len(self.references) == len(self.translations)\n",
    "        self.vocab = vocab or self._create_vocab()\n",
    "\n",
    "    def _preprocess_sentences(self, to_remove_word_cnt, tox_diff):\n",
    "        \"\"\"\n",
    "        Preprocess the sentences in the input DataFrame.\n",
    "\n",
    "        Args:\n",
    "            to_remove_word_cnt (int): The count of occurrences to remove less frequent words from the vocabulary.\n",
    "            tox_diff (float): The toxicity difference threshold for filtering data.\n",
    "        \"\"\"\n",
    "        # Swap all ref with trn where toxicity level is greater in ref\n",
    "        to_swap = self.df['ref_tox'] < self.df['trn_tox']\n",
    "        self.df.loc[to_swap, ['reference', 'translation']] = self.df.loc[to_swap, ['translation', 'reference']].values\n",
    "        self.df.loc[to_swap, ['ref_tox', 'trn_tox']] = self.df.loc[to_swap, ['trn_tox', 'ref_tox']].values\n",
    "\n",
    "        # Delete all rows where difference between ref_tox and trn_tox is less than tox_diff\n",
    "        self.df = self.df[self.df['ref_tox'] - self.df['trn_tox'] >= tox_diff]\n",
    "\n",
    "        self.df.loc[:, 'reference'] = self.df['reference'].apply(lambda text: text.lower())\n",
    "        self.df.loc[:, 'translation'] = self.df['translation'].apply(lambda text: text.lower())\n",
    "\n",
    "        # Tokenize sentences\n",
    "        self.df['tokenized_reference'] = self.df['reference'].apply(lambda text: word_tokenize(text))\n",
    "        self.df['tokenized_translation'] = self.df['translation'].apply(lambda text: word_tokenize(text))\n",
    "\n",
    "        # Collect all words and count their occurrence in sentences\n",
    "        all_sent = self.df['tokenized_translation'].tolist() + self.df['tokenized_reference'].tolist()\n",
    "        all_words = [word for sent in all_sent for word in sent]\n",
    "        token_counts = Counter(all_words)\n",
    "\n",
    "        # Remove all words which occur less or equal than 'to_remove_word_cnt'\n",
    "        self.unique_words = set(all_words)\n",
    "        for word in token_counts:\n",
    "            if token_counts[word] <= to_remove_word_cnt:\n",
    "                self.unique_words.remove(word)\n",
    "\n",
    "        # Leave only approved words in tokenized sentences\n",
    "        self.df['tokenized_reference'] = self.df['tokenized_reference'].apply(\n",
    "            lambda tokens: [word for word in tokens if word in self.unique_words])\n",
    "        self.df['tokenized_translation'] = self.df['tokenized_translation'].apply(\n",
    "            lambda tokens: [word for word in tokens if word in self.unique_words])\n",
    "\n",
    "        self.references = self.df['tokenized_reference'].tolist()\n",
    "        self.translations = self.df['tokenized_translation'].tolist()\n",
    "\n",
    "    def _create_vocab(self):\n",
    "        \"\"\"\n",
    "        Create a vocabulary based on unique words in the preprocessed data.\n",
    "\n",
    "        Returns:\n",
    "            torchtext.legacy.data.Field: A vocabulary object.\n",
    "        \"\"\"\n",
    "        vocab = torchtext.vocab.vocab(Counter(list(self.unique_words)), specials=special_symbols)\n",
    "        vocab.set_default_index(0)\n",
    "\n",
    "        return vocab\n",
    "\n",
    "    def _get_reference(self, index: int) -> list:\n",
    "        \"\"\"\n",
    "        Retrieve a reference sentence from the dataset by index and tokenize it.\n",
    "\n",
    "        Args:\n",
    "            index (int): The index of the reference sentence.\n",
    "\n",
    "        Returns:\n",
    "            list: A list of tokenized reference sentence.\n",
    "        \"\"\"\n",
    "        sent = self.references[index]\n",
    "        return self.vocab(sent)\n",
    "\n",
    "    def _get_translation(self, index: int) -> list:\n",
    "\n",
    "        \"\"\"\n",
    "        Retrieve a translation sentence from the dataset by index and tokenize it.\n",
    "\n",
    "        Args:\n",
    "            index (int): The index of the translation sentence.\n",
    "\n",
    "        Returns:\n",
    "            list: A list of tokenized translation sentence.\n",
    "        \"\"\"\n",
    "        sent = self.translations[index]\n",
    "        return self.vocab(sent)\n",
    "\n",
    "    def __len__(self) -> int:\n",
    "        return len(self.references)\n",
    "\n",
    "    def __getitem__(self, index) -> tuple[list, list]:\n",
    "        return self._get_reference(index), self._get_translation(index)"
   ]
  },
  {
   "cell_type": "markdown",
   "id": "131b2f53",
   "metadata": {
    "id": "_DNGeiRVmBGP",
    "papermill": {
     "duration": 0.007973,
     "end_time": "2023-10-31T22:27:34.121520",
     "exception": false,
     "start_time": "2023-10-31T22:27:34.113547",
     "status": "completed"
    },
    "tags": []
   },
   "source": [
    "## Dataset Creation"
   ]
  },
  {
   "cell_type": "code",
   "execution_count": 4,
   "id": "748117a9",
   "metadata": {
    "execution": {
     "iopub.execute_input": "2023-10-31T22:27:34.139427Z",
     "iopub.status.busy": "2023-10-31T22:27:34.138852Z",
     "iopub.status.idle": "2023-10-31T22:27:34.281832Z",
     "shell.execute_reply": "2023-10-31T22:27:34.281033Z"
    },
    "id": "2KxV6-lCmBGR",
    "papermill": {
     "duration": 0.154608,
     "end_time": "2023-10-31T22:27:34.284130",
     "exception": false,
     "start_time": "2023-10-31T22:27:34.129522",
     "status": "completed"
    },
    "pycharm": {
     "name": "#%%\n"
    },
    "tags": []
   },
   "outputs": [],
   "source": [
    "from sklearn.model_selection import train_test_split\n",
    "\n",
    "VALIDATION_RATIO = 0.2\n",
    "train_dataframe, val_dataframe = train_test_split(tsv_file, test_size=VALIDATION_RATIO, random_state=123)"
   ]
  },
  {
   "cell_type": "code",
   "execution_count": 5,
   "id": "e573e025",
   "metadata": {
    "execution": {
     "iopub.execute_input": "2023-10-31T22:27:34.302270Z",
     "iopub.status.busy": "2023-10-31T22:27:34.301922Z",
     "iopub.status.idle": "2023-10-31T22:30:04.852704Z",
     "shell.execute_reply": "2023-10-31T22:30:04.850677Z"
    },
    "id": "HetmUKVbmBGT",
    "outputId": "8b5568ba-d738-4873-eb80-ed4f7037a964",
    "papermill": {
     "duration": 150.562931,
     "end_time": "2023-10-31T22:30:04.855457",
     "exception": false,
     "start_time": "2023-10-31T22:27:34.292526",
     "status": "completed"
    },
    "pycharm": {
     "name": "#%%\n"
    },
    "tags": []
   },
   "outputs": [
    {
     "name": "stderr",
     "output_type": "stream",
     "text": [
      "/tmp/ipykernel_26/3812424824.py:41: SettingWithCopyWarning: \n",
      "A value is trying to be set on a copy of a slice from a DataFrame.\n",
      "Try using .loc[row_indexer,col_indexer] = value instead\n",
      "\n",
      "See the caveats in the documentation: https://pandas.pydata.org/pandas-docs/stable/user_guide/indexing.html#returning-a-view-versus-a-copy\n",
      "  self.df['tokenized_reference'] = self.df['reference'].apply(lambda text: word_tokenize(text))\n",
      "/tmp/ipykernel_26/3812424824.py:42: SettingWithCopyWarning: \n",
      "A value is trying to be set on a copy of a slice from a DataFrame.\n",
      "Try using .loc[row_indexer,col_indexer] = value instead\n",
      "\n",
      "See the caveats in the documentation: https://pandas.pydata.org/pandas-docs/stable/user_guide/indexing.html#returning-a-view-versus-a-copy\n",
      "  self.df['tokenized_translation'] = self.df['translation'].apply(lambda text: word_tokenize(text))\n",
      "/tmp/ipykernel_26/3812424824.py:56: SettingWithCopyWarning: \n",
      "A value is trying to be set on a copy of a slice from a DataFrame.\n",
      "Try using .loc[row_indexer,col_indexer] = value instead\n",
      "\n",
      "See the caveats in the documentation: https://pandas.pydata.org/pandas-docs/stable/user_guide/indexing.html#returning-a-view-versus-a-copy\n",
      "  self.df['tokenized_reference'] = self.df['tokenized_reference'].apply(lambda tokens: [word for word in tokens if word in self.unique_words])\n",
      "/tmp/ipykernel_26/3812424824.py:57: SettingWithCopyWarning: \n",
      "A value is trying to be set on a copy of a slice from a DataFrame.\n",
      "Try using .loc[row_indexer,col_indexer] = value instead\n",
      "\n",
      "See the caveats in the documentation: https://pandas.pydata.org/pandas-docs/stable/user_guide/indexing.html#returning-a-view-versus-a-copy\n",
      "  self.df['tokenized_translation'] = self.df['tokenized_translation'].apply(lambda tokens: [word for word in tokens if word in self.unique_words])\n",
      "/tmp/ipykernel_26/3812424824.py:41: SettingWithCopyWarning: \n",
      "A value is trying to be set on a copy of a slice from a DataFrame.\n",
      "Try using .loc[row_indexer,col_indexer] = value instead\n",
      "\n",
      "See the caveats in the documentation: https://pandas.pydata.org/pandas-docs/stable/user_guide/indexing.html#returning-a-view-versus-a-copy\n",
      "  self.df['tokenized_reference'] = self.df['reference'].apply(lambda text: word_tokenize(text))\n",
      "/tmp/ipykernel_26/3812424824.py:42: SettingWithCopyWarning: \n",
      "A value is trying to be set on a copy of a slice from a DataFrame.\n",
      "Try using .loc[row_indexer,col_indexer] = value instead\n",
      "\n",
      "See the caveats in the documentation: https://pandas.pydata.org/pandas-docs/stable/user_guide/indexing.html#returning-a-view-versus-a-copy\n",
      "  self.df['tokenized_translation'] = self.df['translation'].apply(lambda text: word_tokenize(text))\n",
      "/tmp/ipykernel_26/3812424824.py:56: SettingWithCopyWarning: \n",
      "A value is trying to be set on a copy of a slice from a DataFrame.\n",
      "Try using .loc[row_indexer,col_indexer] = value instead\n",
      "\n",
      "See the caveats in the documentation: https://pandas.pydata.org/pandas-docs/stable/user_guide/indexing.html#returning-a-view-versus-a-copy\n",
      "  self.df['tokenized_reference'] = self.df['tokenized_reference'].apply(lambda tokens: [word for word in tokens if word in self.unique_words])\n",
      "/tmp/ipykernel_26/3812424824.py:57: SettingWithCopyWarning: \n",
      "A value is trying to be set on a copy of a slice from a DataFrame.\n",
      "Try using .loc[row_indexer,col_indexer] = value instead\n",
      "\n",
      "See the caveats in the documentation: https://pandas.pydata.org/pandas-docs/stable/user_guide/indexing.html#returning-a-view-versus-a-copy\n",
      "  self.df['tokenized_translation'] = self.df['tokenized_translation'].apply(lambda tokens: [word for word in tokens if word in self.unique_words])\n"
     ]
    }
   ],
   "source": [
    "train_dataset = DeToxicityDataset(train_dataframe)#, glove=glove, weights=weights)\n",
    "val_dataset = DeToxicityDataset(val_dataframe, vocab=train_dataset.vocab)"
   ]
  },
  {
   "cell_type": "code",
   "execution_count": 6,
   "id": "d6683ae3",
   "metadata": {
    "execution": {
     "iopub.execute_input": "2023-10-31T22:30:04.881743Z",
     "iopub.status.busy": "2023-10-31T22:30:04.880823Z",
     "iopub.status.idle": "2023-10-31T22:30:04.891083Z",
     "shell.execute_reply": "2023-10-31T22:30:04.889709Z"
    },
    "id": "GuaBWLTSmBGX",
    "outputId": "336dcbcb-4d87-48bd-d209-f3508faac1dd",
    "papermill": {
     "duration": 0.026373,
     "end_time": "2023-10-31T22:30:04.895395",
     "exception": false,
     "start_time": "2023-10-31T22:30:04.869022",
     "status": "completed"
    },
    "pycharm": {
     "name": "#%%\n"
    },
    "tags": []
   },
   "outputs": [
    {
     "data": {
      "text/plain": [
       "['it', 'looks', 'like', 'a', 'box', 'full', 'of', '.']"
      ]
     },
     "execution_count": 6,
     "metadata": {},
     "output_type": "execute_result"
    }
   ],
   "source": [
    "train_dataset.vocab.lookup_tokens(train_dataset[0][0])"
   ]
  },
  {
   "cell_type": "code",
   "execution_count": 7,
   "id": "da2e6f8b",
   "metadata": {
    "execution": {
     "iopub.execute_input": "2023-10-31T22:30:04.915703Z",
     "iopub.status.busy": "2023-10-31T22:30:04.915293Z",
     "iopub.status.idle": "2023-10-31T22:30:04.928584Z",
     "shell.execute_reply": "2023-10-31T22:30:04.927692Z"
    },
    "id": "wueSluMThvHB",
    "outputId": "09427fb2-8023-4872-d0e2-68e03f69c507",
    "papermill": {
     "duration": 0.026004,
     "end_time": "2023-10-31T22:30:04.931130",
     "exception": false,
     "start_time": "2023-10-31T22:30:04.905126",
     "status": "completed"
    },
    "tags": []
   },
   "outputs": [
    {
     "data": {
      "text/plain": [
       "37155"
      ]
     },
     "execution_count": 7,
     "metadata": {},
     "output_type": "execute_result"
    }
   ],
   "source": [
    "len(train_dataset.vocab.get_itos())"
   ]
  },
  {
   "cell_type": "markdown",
   "id": "3f3d323a",
   "metadata": {
    "id": "E0TjKX20mBGa",
    "papermill": {
     "duration": 0.008924,
     "end_time": "2023-10-31T22:30:04.953090",
     "exception": false,
     "start_time": "2023-10-31T22:30:04.944166",
     "status": "completed"
    },
    "tags": []
   },
   "source": [
    "## Dataloader"
   ]
  },
  {
   "cell_type": "code",
   "execution_count": 8,
   "id": "3657b294",
   "metadata": {
    "execution": {
     "iopub.execute_input": "2023-10-31T22:30:04.973569Z",
     "iopub.status.busy": "2023-10-31T22:30:04.972505Z",
     "iopub.status.idle": "2023-10-31T22:30:05.076735Z",
     "shell.execute_reply": "2023-10-31T22:30:05.075706Z"
    },
    "id": "mARk2vGGmBGc",
    "papermill": {
     "duration": 0.117256,
     "end_time": "2023-10-31T22:30:05.079360",
     "exception": false,
     "start_time": "2023-10-31T22:30:04.962104",
     "status": "completed"
    },
    "pycharm": {
     "name": "#%%\n"
    },
    "tags": []
   },
   "outputs": [],
   "source": [
    "from torch.utils.data import DataLoader\n",
    "\n",
    "batch_size = 16\n",
    "max_size = 50\n",
    "\n",
    "device = 'cuda' if torch.cuda.is_available() else 'cpu'\n",
    "\n",
    "def collate_batch(batch: list):\n",
    "    references_batch, translations_batch = [], []\n",
    "    for _ref, _trn in batch:\n",
    "        _ref, _trn = _ref[:max_size-2], _trn[:max_size-2]\n",
    "        _ref, _trn = [BOS_IDX] + _ref + [EOS_IDX], [BOS_IDX] + _trn + [EOS_IDX]\n",
    "        if len(_ref) < max_size:\n",
    "            _ref = _ref + [PAD_IDX] * (max_size - len(_ref))\n",
    "        if len(_trn) < max_size:\n",
    "            _trn = _trn + [PAD_IDX] * (max_size - len(_trn))\n",
    "        references_batch.append(torch.tensor(_ref))\n",
    "        translations_batch.append(torch.tensor(_trn))\n",
    "\n",
    "    return torch.stack(references_batch), torch.stack(translations_batch)\n",
    "\n",
    "train_dataloader = DataLoader(train_dataset, batch_size=batch_size, shuffle=True, collate_fn=collate_batch)\n",
    "val_dataloader = DataLoader(val_dataset, batch_size=batch_size, shuffle=False, collate_fn=collate_batch)"
   ]
  },
  {
   "cell_type": "code",
   "execution_count": 9,
   "id": "0106c01e",
   "metadata": {
    "execution": {
     "iopub.execute_input": "2023-10-31T22:30:05.099333Z",
     "iopub.status.busy": "2023-10-31T22:30:05.099001Z",
     "iopub.status.idle": "2023-10-31T22:30:05.214502Z",
     "shell.execute_reply": "2023-10-31T22:30:05.213349Z"
    },
    "id": "Z_2DuaLnmBGd",
    "outputId": "dab6e079-d4ce-495a-8457-ea3034f6f407",
    "papermill": {
     "duration": 0.130284,
     "end_time": "2023-10-31T22:30:05.219019",
     "exception": false,
     "start_time": "2023-10-31T22:30:05.088735",
     "status": "completed"
    },
    "pycharm": {
     "name": "#%%\n"
    },
    "tags": []
   },
   "outputs": [
    {
     "name": "stdout",
     "output_type": "stream",
     "text": [
      "torch.Size([16, 50])\n",
      "torch.Size([16, 50])\n",
      "tensor([[    2,  1875, 21043, 36192, 20417,  7446, 20011,  7446,   205, 19135,\n",
      "         19542,     3,     1,     1,     1,     1,     1,     1,     1,     1,\n",
      "             1,     1,     1,     1,     1,     1,     1,     1,     1,     1,\n",
      "             1,     1,     1,     1,     1,     1,     1,     1,     1,     1,\n",
      "             1,     1,     1,     1,     1,     1,     1,     1,     1,     1],\n",
      "        [    2, 20417, 18238, 32984, 13555, 21182, 13555,  7446, 22653, 11811,\n",
      "         30060, 31602,  9561,     3,     1,     1,     1,     1,     1,     1,\n",
      "             1,     1,     1,     1,     1,     1,     1,     1,     1,     1,\n",
      "             1,     1,     1,     1,     1,     1,     1,     1,     1,     1,\n",
      "             1,     1,     1,     1,     1,     1,     1,     1,     1,     1],\n",
      "        [    2, 14837,  4629,  1181, 33238, 22522, 13555, 11738, 13555, 33047,\n",
      "         18242, 18595, 13555, 12146, 18298,   205,  9907, 37024, 19588, 21043,\n",
      "          9106,   787, 11734,  9561,     3,     1,     1,     1,     1,     1,\n",
      "             1,     1,     1,     1,     1,     1,     1,     1,     1,     1,\n",
      "             1,     1,     1,     1,     1,     1,     1,     1,     1,     1],\n",
      "        [    2,  2106, 30924, 14837, 20417, 27335,  9907,  9183, 32035, 19542,\n",
      "         11004, 13555, 11943,  1181, 31208, 18258, 13555, 36720, 10875, 13555,\n",
      "         18902, 18132, 13555,  7616,  6553, 13555,     3,     1,     1,     1,\n",
      "             1,     1,     1,     1,     1,     1,     1,     1,     1,     1,\n",
      "             1,     1,     1,     1,     1,     1,     1,     1,     1,     1],\n",
      "        [    2, 21043,   264, 30272,  9907, 10884, 19588, 21043, 27635, 36720,\n",
      "         11746,  9561,     3,     1,     1,     1,     1,     1,     1,     1,\n",
      "             1,     1,     1,     1,     1,     1,     1,     1,     1,     1,\n",
      "             1,     1,     1,     1,     1,     1,     1,     1,     1,     1,\n",
      "             1,     1,     1,     1,     1,     1,     1,     1,     1,     1],\n",
      "        [    2,  1875, 33047,  7446, 20417, 31239, 13555, 21826, 19542,     3,\n",
      "             1,     1,     1,     1,     1,     1,     1,     1,     1,     1,\n",
      "             1,     1,     1,     1,     1,     1,     1,     1,     1,     1,\n",
      "             1,     1,     1,     1,     1,     1,     1,     1,     1,     1,\n",
      "             1,     1,     1,     1,     1,     1,     1,     1,     1,     1],\n",
      "        [    2,  1875, 20417,  7446, 14877, 18242, 36811, 31602, 21594, 33496,\n",
      "         21594, 22005,  7446, 35206,  6696,  6641, 33978, 34505, 19542,     3,\n",
      "             1,     1,     1,     1,     1,     1,     1,     1,     1,     1,\n",
      "             1,     1,     1,     1,     1,     1,     1,     1,     1,     1,\n",
      "             1,     1,     1,     1,     1,     1,     1,     1,     1,     1],\n",
      "        [    2, 14837,  7062, 24495,  7446, 31602, 10089,     3,     1,     1,\n",
      "             1,     1,     1,     1,     1,     1,     1,     1,     1,     1,\n",
      "             1,     1,     1,     1,     1,     1,     1,     1,     1,     1,\n",
      "             1,     1,     1,     1,     1,     1,     1,     1,     1,     1,\n",
      "             1,     1,     1,     1,     1,     1,     1,     1,     1,     1],\n",
      "        [    2,  1181, 30272, 11734, 37090, 32832, 36261, 37090, 15022, 20882,\n",
      "         30272,  8504,  9561,     3,     1,     1,     1,     1,     1,     1,\n",
      "             1,     1,     1,     1,     1,     1,     1,     1,     1,     1,\n",
      "             1,     1,     1,     1,     1,     1,     1,     1,     1,     1,\n",
      "             1,     1,     1,     1,     1,     1,     1,     1,     1,     1],\n",
      "        [    2, 17431, 21043, 36192, 27151, 14256, 10089,     3,     1,     1,\n",
      "             1,     1,     1,     1,     1,     1,     1,     1,     1,     1,\n",
      "             1,     1,     1,     1,     1,     1,     1,     1,     1,     1,\n",
      "             1,     1,     1,     1,     1,     1,     1,     1,     1,     1,\n",
      "             1,     1,     1,     1,     1,     1,     1,     1,     1,     1],\n",
      "        [    2,  7446,  9498,   422, 33238, 11811, 29890, 13555, 36261,  7446,\n",
      "           822,  8477,  5010,  9907,  3033,  9561,     3,     1,     1,     1,\n",
      "             1,     1,     1,     1,     1,     1,     1,     1,     1,     1,\n",
      "             1,     1,     1,     1,     1,     1,     1,     1,     1,     1,\n",
      "             1,     1,     1,     1,     1,     1,     1,     1,     1,     1],\n",
      "        [    2,  3345,  1181, 31208,  3439, 20882,  7446, 35996,  9907, 30695,\n",
      "         23027,  9907, 13272, 13555, 15660, 13555,  6104, 22332, 36558,  9561,\n",
      "             3,     1,     1,     1,     1,     1,     1,     1,     1,     1,\n",
      "             1,     1,     1,     1,     1,     1,     1,     1,     1,     1,\n",
      "             1,     1,     1,     1,     1,     1,     1,     1,     1,     1],\n",
      "        [    2, 14837,  3871, 13555,  3345,  5830, 31208, 12106, 13555, 12205,\n",
      "         19542,  6104,     3,     1,     1,     1,     1,     1,     1,     1,\n",
      "             1,     1,     1,     1,     1,     1,     1,     1,     1,     1,\n",
      "             1,     1,     1,     1,     1,     1,     1,     1,     1,     1,\n",
      "             1,     1,     1,     1,     1,     1,     1,     1,     1,     1],\n",
      "        [    2,  3345, 23074, 12205, 13555, 23074, 12205, 13555, 18317,  7446,\n",
      "          9561,     3,     1,     1,     1,     1,     1,     1,     1,     1,\n",
      "             1,     1,     1,     1,     1,     1,     1,     1,     1,     1,\n",
      "             1,     1,     1,     1,     1,     1,     1,     1,     1,     1,\n",
      "             1,     1,     1,     1,     1,     1,     1,     1,     1,     1],\n",
      "        [    2,  1875, 20417,  3778, 36811, 18242, 23279,   588, 18242, 16755,\n",
      "         22005,  1181, 34197, 21043,  5875, 18242,  5847, 13555, 33238, 23325,\n",
      "         31208,  8452, 19542,     3,     1,     1,     1,     1,     1,     1,\n",
      "             1,     1,     1,     1,     1,     1,     1,     1,     1,     1,\n",
      "             1,     1,     1,     1,     1,     1,     1,     1,     1,     1],\n",
      "        [    2,  9907,  9183, 22001, 13555, 27857, 19542,     3,     1,     1,\n",
      "             1,     1,     1,     1,     1,     1,     1,     1,     1,     1,\n",
      "             1,     1,     1,     1,     1,     1,     1,     1,     1,     1,\n",
      "             1,     1,     1,     1,     1,     1,     1,     1,     1,     1,\n",
      "             1,     1,     1,     1,     1,     1,     1,     1,     1,     1]])\n"
     ]
    }
   ],
   "source": [
    "# just to check that all shapes are correct\n",
    "for batch in train_dataloader:\n",
    "    inp, out = batch\n",
    "    print(inp.shape)\n",
    "    print(out.shape)\n",
    "    print(inp)\n",
    "    break"
   ]
  },
  {
   "cell_type": "markdown",
   "id": "b10416b6",
   "metadata": {
    "id": "o0pjwXdMmBGf",
    "papermill": {
     "duration": 0.009463,
     "end_time": "2023-10-31T22:30:05.239443",
     "exception": false,
     "start_time": "2023-10-31T22:30:05.229980",
     "status": "completed"
    },
    "tags": []
   },
   "source": [
    "## Model"
   ]
  },
  {
   "cell_type": "code",
   "execution_count": 10,
   "id": "0979d91f",
   "metadata": {
    "execution": {
     "iopub.execute_input": "2023-10-31T22:30:05.261108Z",
     "iopub.status.busy": "2023-10-31T22:30:05.260278Z",
     "iopub.status.idle": "2023-10-31T22:30:05.276681Z",
     "shell.execute_reply": "2023-10-31T22:30:05.275691Z"
    },
    "id": "Poh4cEkzt925",
    "papermill": {
     "duration": 0.0297,
     "end_time": "2023-10-31T22:30:05.278781",
     "exception": false,
     "start_time": "2023-10-31T22:30:05.249081",
     "status": "completed"
    },
    "tags": []
   },
   "outputs": [],
   "source": [
    "from torch import nn\n",
    "\n",
    "\n",
    "class Transformer(nn.Module):\n",
    "    def __init__(\n",
    "        self,\n",
    "        embedding_size,\n",
    "        vocab_size,\n",
    "        src_pad_idx,\n",
    "        num_heads,\n",
    "        num_encoder_layers,\n",
    "        num_decoder_layers,\n",
    "        dropout,\n",
    "    ):\n",
    "        super(Transformer, self).__init__()\n",
    "        self.word_embedding = nn.Embedding(vocab_size, embedding_size)\n",
    "        self.position_embedding = nn.Embedding(50, embedding_size)\n",
    "\n",
    "        self.device = device\n",
    "        self.transformer = nn.Transformer(\n",
    "            embedding_size,\n",
    "            num_heads,\n",
    "            num_encoder_layers,\n",
    "            num_decoder_layers,\n",
    "            dropout=dropout,\n",
    "            batch_first=True\n",
    "        )\n",
    "        self.fc_out = nn.Linear(embedding_size, vocab_size)\n",
    "        self.dropout = nn.Dropout(dropout)\n",
    "        self.src_pad_idx = src_pad_idx\n",
    "\n",
    "    def make_src_mask(self, src):\n",
    "        src_mask = src == self.src_pad_idx\n",
    "\n",
    "        # (N, src_len)\n",
    "        return src_mask.to(self.device)\n",
    "\n",
    "    def forward(self, src, trg):\n",
    "        N, src_seq_length = src.shape\n",
    "        N, trg_seq_length = trg.shape\n",
    "\n",
    "        src_positions = (\n",
    "            torch.arange(0, src_seq_length)\n",
    "            .unsqueeze(0)\n",
    "            .expand(N, src_seq_length)\n",
    "            .to(self.device)\n",
    "        )\n",
    "\n",
    "        trg_positions = (\n",
    "            torch.arange(0, trg_seq_length)\n",
    "            .unsqueeze(0)\n",
    "            .expand(N, trg_seq_length)\n",
    "            .to(self.device)\n",
    "        )\n",
    "\n",
    "        embed_src = self.dropout(\n",
    "            (self.word_embedding(src) + self.position_embedding(src_positions))\n",
    "        )\n",
    "        embed_trg = self.dropout(\n",
    "            (self.word_embedding(trg) + self.position_embedding(trg_positions))\n",
    "        )\n",
    "\n",
    "        src_padding_mask = self.make_src_mask(src)\n",
    "        trg_mask = self.transformer.generate_square_subsequent_mask(trg_seq_length).to(\n",
    "            self.device\n",
    "        )\n",
    "\n",
    "        out = self.transformer(\n",
    "            embed_src,\n",
    "            embed_trg,\n",
    "            src_key_padding_mask=src_padding_mask,\n",
    "            tgt_mask=trg_mask,\n",
    "        )\n",
    "        out = self.fc_out(out)\n",
    "        return out\n"
   ]
  },
  {
   "cell_type": "markdown",
   "id": "6c0ec2e4",
   "metadata": {
    "id": "dZjZ7EQAmBGk",
    "papermill": {
     "duration": 0.009676,
     "end_time": "2023-10-31T22:30:05.347152",
     "exception": false,
     "start_time": "2023-10-31T22:30:05.337476",
     "status": "completed"
    },
    "tags": []
   },
   "source": [
    "## Train Loop"
   ]
  },
  {
   "cell_type": "code",
   "execution_count": 12,
   "id": "1bd5da32",
   "metadata": {
    "execution": {
     "iopub.execute_input": "2023-10-31T22:30:05.367575Z",
     "iopub.status.busy": "2023-10-31T22:30:05.367209Z",
     "iopub.status.idle": "2023-10-31T22:30:05.374571Z",
     "shell.execute_reply": "2023-10-31T22:30:05.373695Z"
    },
    "papermill": {
     "duration": 0.019842,
     "end_time": "2023-10-31T22:30:05.376615",
     "exception": false,
     "start_time": "2023-10-31T22:30:05.356773",
     "status": "completed"
    },
    "tags": []
   },
   "outputs": [],
   "source": [
    "def decode_outputs(outputs):\n",
    "    sents = []\n",
    "    for sent in outputs.detach().cpu():\n",
    "        sent = torch.argmax(sent, dim=1)\n",
    "        sent = train_dataset.vocab.lookup_tokens(sent.numpy())\n",
    "        filtered_data = [item for item in sent if item != special_symbols[PAD_IDX]]\n",
    "        sents.append(filtered_data)\n",
    "    return sents\n",
    "    \n",
    "def decode_labels(labels):\n",
    "    sents = []\n",
    "    for sent in labels.detach().cpu():\n",
    "        sent = train_dataset.vocab.lookup_tokens(sent.numpy())\n",
    "        filtered_data = [item for item in sent if item != special_symbols[PAD_IDX]]\n",
    "        sents.append(filtered_data)\n",
    "    return sents"
   ]
  },
  {
   "cell_type": "code",
   "execution_count": 13,
   "id": "c5e4df7d",
   "metadata": {
    "execution": {
     "iopub.execute_input": "2023-10-31T22:30:05.397372Z",
     "iopub.status.busy": "2023-10-31T22:30:05.396474Z",
     "iopub.status.idle": "2023-10-31T22:30:21.197401Z",
     "shell.execute_reply": "2023-10-31T22:30:21.196417Z"
    },
    "papermill": {
     "duration": 15.813951,
     "end_time": "2023-10-31T22:30:21.199905",
     "exception": false,
     "start_time": "2023-10-31T22:30:05.385954",
     "status": "completed"
    },
    "tags": []
   },
   "outputs": [
    {
     "name": "stdout",
     "output_type": "stream",
     "text": [
      "Requirement already satisfied: nltk in /opt/conda/lib/python3.10/site-packages (3.2.4)\r\n",
      "Collecting nltk\r\n",
      "  Downloading nltk-3.8.1-py3-none-any.whl (1.5 MB)\r\n",
      "\u001B[2K     \u001B[90m━━━━━━━━━━━━━━━━━━━━━━━━━━━━━━━━━━━━━━━━\u001B[0m \u001B[32m1.5/1.5 MB\u001B[0m \u001B[31m22.8 MB/s\u001B[0m eta \u001B[36m0:00:00\u001B[0m\r\n",
      "\u001B[?25hRequirement already satisfied: click in /opt/conda/lib/python3.10/site-packages (from nltk) (8.1.7)\r\n",
      "Requirement already satisfied: joblib in /opt/conda/lib/python3.10/site-packages (from nltk) (1.3.2)\r\n",
      "Requirement already satisfied: regex>=2021.8.3 in /opt/conda/lib/python3.10/site-packages (from nltk) (2023.6.3)\r\n",
      "Requirement already satisfied: tqdm in /opt/conda/lib/python3.10/site-packages (from nltk) (4.66.1)\r\n",
      "Installing collected packages: nltk\r\n",
      "  Attempting uninstall: nltk\r\n",
      "    Found existing installation: nltk 3.2.4\r\n",
      "    Uninstalling nltk-3.2.4:\r\n",
      "      Successfully uninstalled nltk-3.2.4\r\n",
      "\u001B[31mERROR: pip's dependency resolver does not currently take into account all the packages that are installed. This behaviour is the source of the following dependency conflicts.\r\n",
      "preprocessing 0.1.13 requires nltk==3.2.4, but you have nltk 3.8.1 which is incompatible.\u001B[0m\u001B[31m\r\n",
      "\u001B[0mSuccessfully installed nltk-3.8.1\r\n",
      "[nltk_data] Downloading package wordnet to /usr/share/nltk_data...\n",
      "[nltk_data]   Package wordnet is already up-to-date!\n",
      "Archive:  /usr/share/nltk_data/corpora/wordnet.zip\r\n",
      "   creating: /usr/share/nltk_data/corpora/wordnet/\r\n",
      "  inflating: /usr/share/nltk_data/corpora/wordnet/lexnames  \r\n",
      "  inflating: /usr/share/nltk_data/corpora/wordnet/data.verb  \r\n",
      "  inflating: /usr/share/nltk_data/corpora/wordnet/index.adv  \r\n",
      "  inflating: /usr/share/nltk_data/corpora/wordnet/adv.exc  \r\n",
      "  inflating: /usr/share/nltk_data/corpora/wordnet/index.verb  \r\n",
      "  inflating: /usr/share/nltk_data/corpora/wordnet/cntlist.rev  \r\n",
      "  inflating: /usr/share/nltk_data/corpora/wordnet/data.adj  \r\n",
      "  inflating: /usr/share/nltk_data/corpora/wordnet/index.adj  \r\n",
      "  inflating: /usr/share/nltk_data/corpora/wordnet/LICENSE  \r\n",
      "  inflating: /usr/share/nltk_data/corpora/wordnet/citation.bib  \r\n",
      "  inflating: /usr/share/nltk_data/corpora/wordnet/noun.exc  \r\n",
      "  inflating: /usr/share/nltk_data/corpora/wordnet/verb.exc  \r\n",
      "  inflating: /usr/share/nltk_data/corpora/wordnet/README  \r\n",
      "  inflating: /usr/share/nltk_data/corpora/wordnet/index.sense  \r\n",
      "  inflating: /usr/share/nltk_data/corpora/wordnet/data.noun  \r\n",
      "  inflating: /usr/share/nltk_data/corpora/wordnet/data.adv  \r\n",
      "  inflating: /usr/share/nltk_data/corpora/wordnet/index.noun  \r\n",
      "  inflating: /usr/share/nltk_data/corpora/wordnet/adj.exc  \r\n"
     ]
    }
   ],
   "source": [
    "!pip install -U nltk\n",
    "nltk.download('wordnet')\n",
    "# IMPORTANT: Uncomment next line if you have troubles with corpora/wordnet\n",
    "# !unzip /usr/share/nltk_data/corpora/wordnet.zip -d /usr/share/nltk_data/corpora/"
   ]
  },
  {
   "cell_type": "code",
   "execution_count": 14,
   "id": "1004d58d",
   "metadata": {
    "execution": {
     "iopub.execute_input": "2023-10-31T22:30:21.223789Z",
     "iopub.status.busy": "2023-10-31T22:30:21.222851Z",
     "iopub.status.idle": "2023-10-31T22:30:30.984882Z",
     "shell.execute_reply": "2023-10-31T22:30:30.983805Z"
    },
    "id": "GZgWx67FmBGl",
    "papermill": {
     "duration": 9.776134,
     "end_time": "2023-10-31T22:30:30.986863",
     "exception": false,
     "start_time": "2023-10-31T22:30:21.210729",
     "status": "completed"
    },
    "pycharm": {
     "name": "#%%\n"
    },
    "tags": []
   },
   "outputs": [
    {
     "name": "stdout",
     "output_type": "stream",
     "text": [
      "[nltk_data] Downloading package wordnet to /usr/share/nltk_data...\n",
      "[nltk_data]   Package wordnet is already up-to-date!\n"
     ]
    },
    {
     "data": {
      "text/plain": [
       "True"
      ]
     },
     "execution_count": 14,
     "metadata": {},
     "output_type": "execute_result"
    }
   ],
   "source": [
    "from tqdm.autonotebook import tqdm\n",
    "import matplotlib.pyplot as plt\n",
    "from torchtext.data.metrics import bleu_score\n",
    "from nltk.translate.meteor_score import single_meteor_score\n",
    "\n",
    "\n",
    "train_losses = []\n",
    "val_losses = []\n",
    "val_bleus = []\n",
    "val_meteors = []\n",
    "\n",
    "\n",
    "def train_one_epoch(\n",
    "    model,\n",
    "    loader,\n",
    "    optimizer,\n",
    "    loss_fn,\n",
    "    epoch_num=-1\n",
    "):\n",
    "    loop = tqdm(\n",
    "        enumerate(loader, 1),\n",
    "        total=len(loader),\n",
    "        desc=f\"Epoch {epoch}: train\",\n",
    "        leave=True,\n",
    "    )\n",
    "    model.train()\n",
    "    train_loss = 0.0\n",
    "    total = 0\n",
    "    for i, batch in loop:\n",
    "        inp_data = batch[0].to(device)\n",
    "        target = batch[1].to(device)\n",
    "\n",
    "        output = model(inp_data, target[:, :-1])\n",
    "\n",
    "        output = output.reshape(-1, output.shape[2])\n",
    "        target = target[:, 1:].reshape(-1)\n",
    "\n",
    "        loss = loss_fn(output, target)\n",
    "        \n",
    "        optimizer.zero_grad()\n",
    "        loss.backward()\n",
    "        optimizer.step()\n",
    "        \n",
    "        train_loss += loss.item()\n",
    "        total += len(batch)\n",
    "        loop.set_postfix({\"total loss\": train_loss/total, \"batch loss\": loss.item() / len(batch)})\n",
    "    train_losses.append(train_loss/total)\n",
    "\n",
    "        \n",
    "def val_one_epoch(\n",
    "    model,\n",
    "    loader,\n",
    "    loss_fn,\n",
    "    epoch_num=-1\n",
    "):\n",
    "    loop = tqdm(\n",
    "        enumerate(loader, 1),\n",
    "        total=len(loader),\n",
    "        desc=f\"Epoch {epoch}: validation\",\n",
    "        leave=True,\n",
    "    )\n",
    "    model.eval()\n",
    "    reference_corpus = []  # List to store reference sentences\n",
    "    candidate_corpus = []  # List to store candidate sentences\n",
    "    test_loss = 0.0\n",
    "    total = 0\n",
    "    for i, batch in loop:\n",
    "        inp_data = batch[0].to(device)\n",
    "        target = batch[1].to(device)\n",
    "\n",
    "        output = model(inp_data, target[:, :-1])\n",
    "        \n",
    "        # Convert the model's output to sentences\n",
    "        predicted_sentences = decode_outputs(output)\n",
    "        reference_sentences = decode_labels(target)\n",
    "\n",
    "        # Append reference and candidate sentences for BLEU score computation\n",
    "        reference_corpus.extend(reference_sentences)\n",
    "        candidate_corpus.extend(predicted_sentences)\n",
    "\n",
    "        output = output.reshape(-1, output.shape[2])\n",
    "        target = target[:, 1:].reshape(-1)\n",
    "\n",
    "        loss = loss_fn(output, target)\n",
    "\n",
    "        test_loss += loss.item()\n",
    "        total += len(batch)\n",
    "        loop.set_postfix({\"total loss\": test_loss/total, \"batch loss\": loss.item() / len(batch)})\n",
    "    val_losses.append(test_loss/total)\n",
    "    valid_bleu = bleu_score(candidate_corpus, reference_corpus)\n",
    "    mean_meteor = 0\n",
    "    for i in range(len(reference_corpus)):\n",
    "        mean_meteor += single_meteor_score(reference_corpus[i], candidate_corpus[i])\n",
    "    mean_meteor /= len(candidate_corpus)\n",
    "    val_bleus.append(valid_bleu)\n",
    "    val_meteors.append(mean_meteor)\n",
    "    print('BLEU:', valid_bleu, 'METEOR:', mean_meteor)\n",
    "\n",
    "\n",
    "def plot_losses():\n",
    "    fig, (ax1, ax2, ax3) = plt.subplots(1, 3, figsize=(15, 5))\n",
    "    ax1.plot(range(len(train_losses)), train_losses, label='training', marker='o', linestyle='-')\n",
    "    ax1.plot(range(len(val_losses)), val_losses, label='validation', marker='o', linestyle='-')\n",
    "    ax1.set_ylabel('Loss')\n",
    "    ax1.set_xlabel('Epoches')\n",
    "    ax1.legend()\n",
    "\n",
    "    ax2.plot(range(len(val_bleus)), val_bleus, marker='o', linestyle='-')\n",
    "    ax2.set_ylabel('BLEU')\n",
    "    ax2.set_xlabel('Epoches')\n",
    "    \n",
    "    ax3.plot(range(len(val_meteors)), val_meteors, marker='o', linestyle='-')\n",
    "    ax3.set_ylabel('METEOR')\n",
    "    ax3.set_xlabel('Epoches')\n",
    "    \n",
    "    plt.show()\n",
    "\n",
    "nltk.download('wordnet')"
   ]
  },
  {
   "cell_type": "code",
   "execution_count": 15,
   "id": "7118afa6",
   "metadata": {
    "execution": {
     "iopub.execute_input": "2023-10-31T22:30:31.011153Z",
     "iopub.status.busy": "2023-10-31T22:30:31.010411Z",
     "iopub.status.idle": "2023-10-31T22:30:31.025494Z",
     "shell.execute_reply": "2023-10-31T22:30:31.024526Z"
    },
    "papermill": {
     "duration": 0.02978,
     "end_time": "2023-10-31T22:30:31.027764",
     "exception": false,
     "start_time": "2023-10-31T22:30:30.997984",
     "status": "completed"
    },
    "tags": []
   },
   "outputs": [],
   "source": [
    "def translate_sentence(model, sentence_tensor, device, max_length=50):\n",
    "    sentence_tensor = sentence_tensor.to(device)#.permute(1, 0)\n",
    "    outputs = [BOS_IDX]\n",
    "    for i in range(max_length):\n",
    "        trg_tensor = torch.LongTensor(outputs).unsqueeze(0).to(device)\n",
    "        with torch.no_grad():\n",
    "            output = model(sentence_tensor, trg_tensor)\n",
    "\n",
    "        best_guess = output.argmax(2)[:, -1].item()\n",
    "        outputs.append(best_guess)\n",
    "        if best_guess == EOS_IDX:\n",
    "            break\n",
    "\n",
    "    translated_sentence = train_dataset.vocab.lookup_tokens(outputs)\n",
    "    # remove start token\n",
    "    return translated_sentence[1:]\n",
    "\n",
    "def bleu(data, model, device):\n",
    "    targets = []\n",
    "    outputs = []\n",
    "\n",
    "    for example in data:\n",
    "        src = example[0]\n",
    "        trg = translate(example[1])\n",
    "        trg_trn = ' '.join(trg)\n",
    "\n",
    "        prediction = translate_sentence(model, src, device)\n",
    "        prediction = prediction[:-1]  # remove <eos> token\n",
    "\n",
    "        targets.append(trg)\n",
    "        outputs.append(prediction)\n",
    "\n",
    "        print(f'Input:', ' '.join(translate(src.view(-1).tolist()[1:-1])))\n",
    "        print(f'Continuation:', ' '.join(prediction))\n",
    "        print(f'Translation:', trg_trn)\n",
    "        print(f'bleu: {bleu_score([prediction], [trg], 1, [1])}')\n",
    "        print()\n",
    "    print(bleu_score(outputs, targets, 1, [1]))\n",
    "\n",
    "examples = [\n",
    "    (torch.tensor([train_dataset[0][0]]), train_dataset[0][1]),\n",
    "    (torch.tensor([train_dataset[1][0]]), train_dataset[1][1]),\n",
    "    (torch.tensor([train_dataset[2][0]]), train_dataset[2][1]),\n",
    "    (torch.tensor([val_dataset[0][0]]), val_dataset[0][1]),\n",
    "    (torch.tensor([val_dataset[1][0]]), val_dataset[1][1]),\n",
    "    (torch.tensor([val_dataset[2][0]]), val_dataset[2][1])\n",
    "]\n",
    "\n",
    "translate = train_dataset.vocab.lookup_tokens"
   ]
  },
  {
   "cell_type": "code",
   "execution_count": 16,
   "id": "f0a60329",
   "metadata": {
    "execution": {
     "iopub.execute_input": "2023-10-31T22:30:31.050827Z",
     "iopub.status.busy": "2023-10-31T22:30:31.050461Z",
     "iopub.status.idle": "2023-10-31T22:30:36.482090Z",
     "shell.execute_reply": "2023-10-31T22:30:36.480852Z"
    },
    "id": "tucHog3tmBGn",
    "papermill": {
     "duration": 5.446406,
     "end_time": "2023-10-31T22:30:36.484957",
     "exception": false,
     "start_time": "2023-10-31T22:30:31.038551",
     "status": "completed"
    },
    "pycharm": {
     "name": "#%%\n"
    },
    "tags": []
   },
   "outputs": [],
   "source": [
    "INPUT_DIM = len(train_dataset.vocab)\n",
    "OUTPUT_DIM = len(train_dataset.vocab)\n",
    "EMB_DIM = 96\n",
    "N_HEAD = 4\n",
    "N_LAYERS = 3\n",
    "DROPOUT = 0.10\n",
    "\n",
    "model = Transformer(EMB_DIM, INPUT_DIM, PAD_IDX, N_HEAD, N_LAYERS, N_LAYERS, DROPOUT).to(device)\n",
    "\n",
    "optimizer = torch.optim.Adam(model.parameters())\n",
    "criterion = nn.CrossEntropyLoss(ignore_index = PAD_IDX)"
   ]
  },
  {
   "cell_type": "code",
   "execution_count": 17,
   "id": "8abe5901",
   "metadata": {
    "execution": {
     "iopub.execute_input": "2023-10-31T22:30:36.509443Z",
     "iopub.status.busy": "2023-10-31T22:30:36.509087Z",
     "iopub.status.idle": "2023-11-01T02:34:25.821610Z",
     "shell.execute_reply": "2023-11-01T02:34:25.820455Z"
    },
    "id": "W3S4Z_NFmBGp",
    "outputId": "cd4fe7e9-ce0f-4f55-ad13-15cfc959ca1b",
    "papermill": {
     "duration": 14657.283416,
     "end_time": "2023-11-01T02:34:53.780345",
     "exception": false,
     "start_time": "2023-10-31T22:30:36.496929",
     "status": "completed"
    },
    "pycharm": {
     "name": "#%%\n"
    },
    "tags": []
   },
   "outputs": [
    {
     "name": "stderr",
     "output_type": "stream",
     "text": [
      "Epoch 0: train: 100%|██████████| 20342/20342 [08:48<00:00, 38.47it/s, total loss=2.07, batch loss=1.91]\n"
     ]
    },
    {
     "name": "stdout",
     "output_type": "stream",
     "text": [
      "Input: looks like a box full of\n",
      "Continuation: like a little bit of it .\n",
      "Translation: it looks like a box full of `` finding your own . ''\n",
      "bleu: 0.2857142984867096\n",
      "\n",
      "Input: the fucking gun\n",
      "Continuation: the car .\n",
      "Translation: drop the gun .\n",
      "bleu: 0.3333333134651184\n",
      "\n",
      "Input: i pay to watch them masturbate\n",
      "Continuation: when i 'm gon na be killed .\n",
      "Translation: sometimes i only pay for looking .\n",
      "bleu: 0.22062422564614886\n",
      "\n",
      "Input: damn it , no man lives in a vacuum\n",
      "Continuation: `` hell , no one 's in a room !\n",
      "Translation: `` hell , no one lives in a vacuum !\n",
      "bleu: 0.29999998211860657\n",
      "\n",
      "Input: , shit\n",
      "Continuation: oh , god !\n",
      "Translation: blimey !\n",
      "bleu: 0.15163266492815836\n",
      "\n",
      "Input: you any of this desert ufo lunatics\n",
      "Continuation: you like this , is the same thing ?\n",
      "Translation: y'all some of those desert ufo freaks ?\n",
      "bleu: 0.1111111044883728\n",
      "\n",
      "0.24390245974063873\n"
     ]
    },
    {
     "name": "stderr",
     "output_type": "stream",
     "text": [
      "Epoch 0: validation: 100%|██████████| 5066/5066 [12:33<00:00,  6.72it/s, total loss=1.76, batch loss=1.69]\n"
     ]
    },
    {
     "name": "stdout",
     "output_type": "stream",
     "text": [
      "BLEU: 0.0 METEOR: 0.2930646882725993\n"
     ]
    },
    {
     "name": "stderr",
     "output_type": "stream",
     "text": [
      "Epoch 1: train: 100%|██████████| 20342/20342 [08:24<00:00, 40.29it/s, total loss=1.75, batch loss=1.74]\n"
     ]
    },
    {
     "name": "stdout",
     "output_type": "stream",
     "text": [
      "Input: looks like a box full of\n",
      "Continuation: it looks like a hole .\n",
      "Translation: it looks like a box full of `` finding your own . ''\n",
      "bleu: 0.3333333134651184\n",
      "\n",
      "Input: the fucking gun\n",
      "Continuation: the gun .\n",
      "Translation: drop the gun .\n",
      "bleu: 0.3333333134651184\n",
      "\n",
      "Input: i pay to watch them masturbate\n",
      "Continuation: i pay them .\n",
      "Translation: sometimes i only pay for looking .\n",
      "bleu: 0.5\n",
      "\n",
      "Input: damn it , no man lives in a vacuum\n",
      "Continuation: hell , you do n't get the man in a lot of trouble !\n",
      "Translation: `` hell , no one lives in a vacuum !\n",
      "bleu: 0.2142857015132904\n",
      "\n",
      "Input: , shit\n",
      "Continuation: oh , , my god !\n",
      "Translation: blimey !\n",
      "bleu: 0.1666666567325592\n",
      "\n",
      "Input: you any of this desert ufo lunatics\n",
      "Continuation: you 're nothing from this movie ?\n",
      "Translation: y'all some of those desert ufo freaks ?\n",
      "bleu: 0.1428571492433548\n",
      "\n",
      "0.25\n"
     ]
    },
    {
     "name": "stderr",
     "output_type": "stream",
     "text": [
      "Epoch 1: validation: 100%|██████████| 5066/5066 [12:15<00:00,  6.89it/s, total loss=1.56, batch loss=1.58]\n"
     ]
    },
    {
     "name": "stdout",
     "output_type": "stream",
     "text": [
      "BLEU: 0.0 METEOR: 0.33592979509037973\n"
     ]
    },
    {
     "name": "stderr",
     "output_type": "stream",
     "text": [
      "Epoch 2: train: 100%|██████████| 20342/20342 [08:37<00:00, 39.33it/s, total loss=1.6, batch loss=1.18]\n"
     ]
    },
    {
     "name": "stdout",
     "output_type": "stream",
     "text": [
      "Input: looks like a box full of\n",
      "Continuation: looks like a hole of it .\n",
      "Translation: it looks like a box full of `` finding your own . ''\n",
      "bleu: 0.2857142984867096\n",
      "\n",
      "Input: the fucking gun\n",
      "Continuation: the gun . the gun !\n",
      "Translation: drop the gun .\n",
      "bleu: 0.1666666567325592\n",
      "\n",
      "Input: i pay to watch them masturbate\n",
      "Continuation: i pay to keep them up .\n",
      "Translation: sometimes i only pay for looking .\n",
      "bleu: 0.2857142984867096\n",
      "\n",
      "Input: damn it , no man lives in a vacuum\n",
      "Continuation: hell , no . he 's in the sky !\n",
      "Translation: `` hell , no one lives in a vacuum !\n",
      "bleu: 0.19999998807907104\n",
      "\n",
      "Input: , shit\n",
      "Continuation: oh , my god .\n",
      "Translation: blimey !\n",
      "bleu: 0.0\n",
      "\n",
      "Input: you any of this desert ufo lunatics\n",
      "Continuation: are you all the money ?\n",
      "Translation: y'all some of those desert ufo freaks ?\n",
      "bleu: 0.1666666567325592\n",
      "\n",
      "0.19512194395065308\n"
     ]
    },
    {
     "name": "stderr",
     "output_type": "stream",
     "text": [
      "Epoch 2: validation: 100%|██████████| 5066/5066 [12:34<00:00,  6.72it/s, total loss=1.44, batch loss=1.69]\n"
     ]
    },
    {
     "name": "stdout",
     "output_type": "stream",
     "text": [
      "BLEU: 0.0 METEOR: 0.3591127185417884\n"
     ]
    },
    {
     "name": "stderr",
     "output_type": "stream",
     "text": [
      "Epoch 3: train: 100%|██████████| 20342/20342 [08:57<00:00, 37.83it/s, total loss=1.51, batch loss=1.51]\n"
     ]
    },
    {
     "name": "stdout",
     "output_type": "stream",
     "text": [
      "Input: looks like a box full of\n",
      "Continuation: look , it looks like a hell of a rock .\n",
      "Translation: it looks like a box full of `` finding your own . ''\n",
      "bleu: 0.1818181872367859\n",
      "\n",
      "Input: the fucking gun\n",
      "Continuation: give it .\n",
      "Translation: drop the gun .\n",
      "bleu: 0.3333333134651184\n",
      "\n",
      "Input: i pay to watch them masturbate\n",
      "Continuation: i 'm paying them to keep them .\n",
      "Translation: sometimes i only pay for looking .\n",
      "bleu: 0.22062422564614886\n",
      "\n",
      "Input: damn it , no man lives in a vacuum\n",
      "Continuation: no more person in a a world !\n",
      "Translation: `` hell , no one lives in a vacuum !\n",
      "bleu: 0.25\n",
      "\n",
      "Input: , shit\n",
      "Continuation: oh , jeez !\n",
      "Translation: blimey !\n",
      "bleu: 0.15163266492815836\n",
      "\n",
      "Input: you any of this desert ufo lunatics\n",
      "Continuation: you 're a lot of work that ?\n",
      "Translation: y'all some of those desert ufo freaks ?\n",
      "bleu: 0.25\n",
      "\n",
      "0.238095223903656\n"
     ]
    },
    {
     "name": "stderr",
     "output_type": "stream",
     "text": [
      "Epoch 3: validation: 100%|██████████| 5066/5066 [12:31<00:00,  6.74it/s, total loss=1.38, batch loss=1.5]\n"
     ]
    },
    {
     "name": "stdout",
     "output_type": "stream",
     "text": [
      "BLEU: 0.0 METEOR: 0.3631023480419701\n"
     ]
    },
    {
     "name": "stderr",
     "output_type": "stream",
     "text": [
      "Epoch 4: train: 100%|██████████| 20342/20342 [08:48<00:00, 38.51it/s, total loss=1.45, batch loss=0.915]\n"
     ]
    },
    {
     "name": "stdout",
     "output_type": "stream",
     "text": [
      "Input: looks like a box full of\n",
      "Continuation: looks like a bag full of .\n",
      "Translation: it looks like a box full of `` finding your own . ''\n",
      "bleu: 0.2857142984867096\n",
      "\n",
      "Input: the fucking gun\n",
      "Continuation: the gun .\n",
      "Translation: drop the gun .\n",
      "bleu: 0.3333333134651184\n",
      "\n",
      "Input: i pay to watch them masturbate\n",
      "Continuation: i pay to be careful .\n",
      "Translation: sometimes i only pay for looking .\n",
      "bleu: 0.28216055814545715\n",
      "\n",
      "Input: damn it , no man lives in a vacuum\n",
      "Continuation: `` hell , no man in a history !\n",
      "Translation: `` hell , no one lives in a vacuum !\n",
      "bleu: 0.3333333134651184\n",
      "\n",
      "Input: , shit\n",
      "Continuation: , !\n",
      "Translation: blimey !\n",
      "bleu: 0.5\n",
      "\n",
      "Input: you any of this desert ufo lunatics\n",
      "Continuation: you 're just any of the president who 's the one who 's cheating ?\n",
      "Translation: y'all some of those desert ufo freaks ?\n",
      "bleu: 0.06666666269302368\n",
      "\n",
      "0.238095223903656\n"
     ]
    },
    {
     "name": "stderr",
     "output_type": "stream",
     "text": [
      "Epoch 4: validation: 100%|██████████| 5066/5066 [12:06<00:00,  6.97it/s, total loss=1.33, batch loss=1.56]\n"
     ]
    },
    {
     "name": "stdout",
     "output_type": "stream",
     "text": [
      "BLEU: 0.0 METEOR: 0.3812971939888394\n"
     ]
    },
    {
     "name": "stderr",
     "output_type": "stream",
     "text": [
      "Epoch 5: train: 100%|██████████| 20342/20342 [08:23<00:00, 40.43it/s, total loss=1.41, batch loss=1.52]\n"
     ]
    },
    {
     "name": "stdout",
     "output_type": "stream",
     "text": [
      "Input: looks like a box full of\n",
      "Continuation: looks like a vest full of .\n",
      "Translation: it looks like a box full of `` finding your own . ''\n",
      "bleu: 0.2857142984867096\n",
      "\n",
      "Input: the fucking gun\n",
      "Continuation: the only weapon .\n",
      "Translation: drop the gun .\n",
      "bleu: 0.25\n",
      "\n",
      "Input: i pay to watch them masturbate\n",
      "Continuation: i 'm gon na watch them .\n",
      "Translation: sometimes i only pay for looking .\n",
      "bleu: 0.2857142984867096\n",
      "\n",
      "Input: damn it , no man lives in a vacuum\n",
      "Continuation: hell , no man lives in the world !\n",
      "Translation: `` hell , no one lives in a vacuum !\n",
      "bleu: 0.2222222089767456\n",
      "\n",
      "Input: , shit\n",
      "Continuation: oh , hell !\n",
      "Translation: blimey !\n",
      "bleu: 0.15163266492815836\n",
      "\n",
      "Input: you any of this desert ufo lunatics\n",
      "Continuation: you 're any of this from the badge ?\n",
      "Translation: y'all some of those desert ufo freaks ?\n",
      "bleu: 0.1111111044883728\n",
      "\n",
      "0.22499999403953552\n"
     ]
    },
    {
     "name": "stderr",
     "output_type": "stream",
     "text": [
      "Epoch 5: validation: 100%|██████████| 5066/5066 [12:10<00:00,  6.94it/s, total loss=1.3, batch loss=1.61]\n"
     ]
    },
    {
     "name": "stdout",
     "output_type": "stream",
     "text": [
      "BLEU: 0.0 METEOR: 0.3848572229051725\n"
     ]
    },
    {
     "name": "stderr",
     "output_type": "stream",
     "text": [
      "Epoch 6: train: 100%|██████████| 20342/20342 [08:28<00:00, 40.02it/s, total loss=1.38, batch loss=1.44]\n"
     ]
    },
    {
     "name": "stdout",
     "output_type": "stream",
     "text": [
      "Input: looks like a box full of\n",
      "Continuation: looks like a little .\n",
      "Translation: it looks like a box full of `` finding your own . ''\n",
      "bleu: 0.4000000059604645\n",
      "\n",
      "Input: the fucking gun\n",
      "Continuation: the gun .\n",
      "Translation: drop the gun .\n",
      "bleu: 0.3333333134651184\n",
      "\n",
      "Input: i pay to watch them masturbate\n",
      "Continuation: i 'm paying to watch them .\n",
      "Translation: sometimes i only pay for looking .\n",
      "bleu: 0.2857142984867096\n",
      "\n",
      "Input: damn it , no man lives in a vacuum\n",
      "Continuation: `` hell , no man in the throne !\n",
      "Translation: `` hell , no one lives in a vacuum !\n",
      "bleu: 0.2222222089767456\n",
      "\n",
      "Input: , shit\n",
      "Continuation: oh , my god !\n",
      "Translation: blimey !\n",
      "bleu: 0.16374614085556524\n",
      "\n",
      "Input: you any of this desert ufo lunatics\n",
      "Continuation: you any of this desert ?\n",
      "Translation: y'all some of those desert ufo freaks ?\n",
      "bleu: 0.1666666567325592\n",
      "\n",
      "0.2571428716182709\n"
     ]
    },
    {
     "name": "stderr",
     "output_type": "stream",
     "text": [
      "Epoch 6: validation: 100%|██████████| 5066/5066 [12:12<00:00,  6.92it/s, total loss=1.28, batch loss=1.57]\n"
     ]
    },
    {
     "name": "stdout",
     "output_type": "stream",
     "text": [
      "BLEU: 0.0 METEOR: 0.38974576895337876\n"
     ]
    },
    {
     "name": "stderr",
     "output_type": "stream",
     "text": [
      "Epoch 7: train: 100%|██████████| 20342/20342 [08:30<00:00, 39.84it/s, total loss=1.35, batch loss=1.53]\n"
     ]
    },
    {
     "name": "stdout",
     "output_type": "stream",
     "text": [
      "Input: looks like a box full of\n",
      "Continuation: looks like a box of it .\n",
      "Translation: it looks like a box full of `` finding your own . ''\n",
      "bleu: 0.2857142984867096\n",
      "\n",
      "Input: the fucking gun\n",
      "Continuation: the gun .\n",
      "Translation: drop the gun .\n",
      "bleu: 0.3333333134651184\n",
      "\n",
      "Input: i pay to watch them masturbate\n",
      "Continuation: sometimes , i 'll give them a look at them .\n",
      "Translation: sometimes i only pay for looking .\n",
      "bleu: 0.27272728085517883\n",
      "\n",
      "Input: damn it , no man lives in a vacuum\n",
      "Continuation: hell , no , no one 's lives in a common man !\n",
      "Translation: `` hell , no one lives in a vacuum !\n",
      "bleu: 0.23076923191547394\n",
      "\n",
      "Input: , shit\n",
      "Continuation: oh , my god .\n",
      "Translation: blimey !\n",
      "bleu: 0.0\n",
      "\n",
      "Input: you any of this desert ufo lunatics\n",
      "Continuation: are you any of this machine ?\n",
      "Translation: y'all some of those desert ufo freaks ?\n",
      "bleu: 0.1428571492433548\n",
      "\n",
      "0.21739131212234497\n"
     ]
    },
    {
     "name": "stderr",
     "output_type": "stream",
     "text": [
      "Epoch 7: validation: 100%|██████████| 5066/5066 [12:15<00:00,  6.89it/s, total loss=1.26, batch loss=1.47]\n"
     ]
    },
    {
     "name": "stdout",
     "output_type": "stream",
     "text": [
      "BLEU: 0.0 METEOR: 0.38956619621131844\n"
     ]
    },
    {
     "name": "stderr",
     "output_type": "stream",
     "text": [
      "Epoch 8: train: 100%|██████████| 20342/20342 [08:32<00:00, 39.70it/s, total loss=1.33, batch loss=1.42]\n"
     ]
    },
    {
     "name": "stdout",
     "output_type": "stream",
     "text": [
      "Input: looks like a box full of\n",
      "Continuation: looks like a full of wine .\n",
      "Translation: it looks like a box full of `` finding your own . ''\n",
      "bleu: 0.2857142984867096\n",
      "\n",
      "Input: the fucking gun\n",
      "Continuation: the gun .\n",
      "Translation: drop the gun .\n",
      "bleu: 0.3333333134651184\n",
      "\n",
      "Input: i pay to watch them masturbate\n",
      "Continuation: sometimes i pay them to watch it .\n",
      "Translation: sometimes i only pay for looking .\n",
      "bleu: 0.22062422564614886\n",
      "\n",
      "Input: damn it , no man lives in a vacuum\n",
      "Continuation: no , no , in a mountain !\n",
      "Translation: `` hell , no one lives in a vacuum !\n",
      "bleu: 0.375\n",
      "\n",
      "Input: , shit\n",
      "Continuation: oh , my god !\n",
      "Translation: blimey !\n",
      "bleu: 0.16374614085556524\n",
      "\n",
      "Input: you any of this desert ufo lunatics\n",
      "Continuation: you 're in the library ?\n",
      "Translation: y'all some of those desert ufo freaks ?\n",
      "bleu: 0.1666666567325592\n",
      "\n",
      "0.2702702581882477\n"
     ]
    },
    {
     "name": "stderr",
     "output_type": "stream",
     "text": [
      "Epoch 8: validation: 100%|██████████| 5066/5066 [12:19<00:00,  6.85it/s, total loss=1.25, batch loss=1.5]\n"
     ]
    },
    {
     "name": "stdout",
     "output_type": "stream",
     "text": [
      "BLEU: 0.0 METEOR: 0.3915051859854655\n"
     ]
    },
    {
     "name": "stderr",
     "output_type": "stream",
     "text": [
      "Epoch 9: train: 100%|██████████| 20342/20342 [08:59<00:00, 37.72it/s, total loss=1.32, batch loss=0.839]\n"
     ]
    },
    {
     "name": "stdout",
     "output_type": "stream",
     "text": [
      "Input: looks like a box full of\n",
      "Continuation: looks like a guy 's got a hard-on .\n",
      "Translation: it looks like a box full of `` finding your own . ''\n",
      "bleu: 0.2222222089767456\n",
      "\n",
      "Input: the fucking gun\n",
      "Continuation: the gun !\n",
      "Translation: drop the gun .\n",
      "bleu: 0.0\n",
      "\n",
      "Input: i pay to watch them masturbate\n",
      "Continuation: i pay for them to take them off .\n",
      "Translation: sometimes i only pay for looking .\n",
      "bleu: 0.2222222089767456\n",
      "\n",
      "Input: damn it , no man lives in a vacuum\n",
      "Continuation: `` hell , no man alive in a cab !\n",
      "Translation: `` hell , no one lives in a vacuum !\n",
      "bleu: 0.29999998211860657\n",
      "\n",
      "Input: , shit\n",
      "Continuation: , hell !\n",
      "Translation: blimey !\n",
      "bleu: 0.3333333134651184\n",
      "\n",
      "Input: you any of this desert ufo lunatics\n",
      "Continuation: you 're any of this desert , are n't ralph ?\n",
      "Translation: y'all some of those desert ufo freaks ?\n",
      "bleu: 0.09090908616781235\n",
      "\n",
      "0.19999998807907104\n"
     ]
    },
    {
     "name": "stderr",
     "output_type": "stream",
     "text": [
      "Epoch 9: validation: 100%|██████████| 5066/5066 [12:14<00:00,  6.90it/s, total loss=1.24, batch loss=1.48]\n"
     ]
    },
    {
     "name": "stdout",
     "output_type": "stream",
     "text": [
      "BLEU: 0.0 METEOR: 0.39646192477097497\n"
     ]
    }
   ],
   "source": [
    "from tqdm import tqdm\n",
    "\n",
    "\n",
    "num_epochs = 10\n",
    "for epoch in range(num_epochs):\n",
    "    train_one_epoch(model, train_dataloader, optimizer, criterion, epoch_num=epoch)\n",
    "    torch.save(model.state_dict(), f'trans_{epoch}.pt')\n",
    "    bleu(examples, model, device)\n",
    "    val_one_epoch(model, val_dataloader, criterion, epoch)"
   ]
  },
  {
   "cell_type": "code",
   "execution_count": 18,
   "id": "256e4354",
   "metadata": {
    "execution": {
     "iopub.execute_input": "2023-11-01T02:35:49.291081Z",
     "iopub.status.busy": "2023-11-01T02:35:49.290677Z",
     "iopub.status.idle": "2023-11-01T02:35:49.803298Z",
     "shell.execute_reply": "2023-11-01T02:35:49.802367Z"
    },
    "id": "7ny3YPGJmBGq",
    "outputId": "fdf9842d-7f55-4022-aece-badff3619497",
    "papermill": {
     "duration": 28.279158,
     "end_time": "2023-11-01T02:35:49.805395",
     "exception": false,
     "start_time": "2023-11-01T02:35:21.526237",
     "status": "completed"
    },
    "pycharm": {
     "name": "#%%\n"
    },
    "tags": []
   },
   "outputs": [
    {
     "data": {
      "image/png": "[encoded data removed]",
      "text/plain": [
       "<Figure size 1500x500 with 3 Axes>"
      ]
     },
     "metadata": {},
     "output_type": "display_data"
    }
   ],
   "source": [
    "plot_losses()"
   ]
  },
  {
   "cell_type": "code",
   "execution_count": 19,
   "id": "629d674a",
   "metadata": {
    "execution": {
     "iopub.execute_input": "2023-11-01T02:36:45.447415Z",
     "iopub.status.busy": "2023-11-01T02:36:45.446728Z",
     "iopub.status.idle": "2023-11-01T02:36:45.718733Z",
     "shell.execute_reply": "2023-11-01T02:36:45.717824Z"
    },
    "papermill": {
     "duration": 28.005358,
     "end_time": "2023-11-01T02:36:45.720755",
     "exception": false,
     "start_time": "2023-11-01T02:36:17.715397",
     "status": "completed"
    },
    "tags": []
   },
   "outputs": [
    {
     "name": "stderr",
     "output_type": "stream",
     "text": [
      "/opt/conda/lib/python3.10/site-packages/torch/nn/modules/transformer.py:287: UserWarning: The PyTorch API of nested tensors is in prototype stage and will change in the near future. (Triggered internally at /usr/local/src/pytorch/aten/src/ATen/NestedTensorImpl.cpp:177.)\n",
      "  output = torch._nested_tensor_from_mask(output, src_key_padding_mask.logical_not(), mask_check=False)\n",
      "/opt/conda/lib/python3.10/site-packages/torch/nn/modules/activation.py:1144: UserWarning: Converting mask without torch.bool dtype to bool; this will negatively affect performance. Prefer to use a boolean mask directly. (Triggered internally at /usr/local/src/pytorch/aten/src/ATen/native/transformers/attention.cpp:150.)\n",
      "  return torch._native_multi_head_attention(\n"
     ]
    },
    {
     "name": "stdout",
     "output_type": "stream",
     "text": [
      "Input: looks like a box full of\n",
      "Continuation: looks like a box full of .\n",
      "Translation: it looks like a box full of `` finding your own . ''\n",
      "bleu: 0.2857142984867096\n",
      "\n",
      "Input: the fucking gun\n",
      "Continuation: the gun .\n",
      "Translation: drop the gun .\n",
      "bleu: 0.3333333134651184\n",
      "\n",
      "Input: i pay to watch them masturbate\n",
      "Continuation: sometimes i pay them to watch them .\n",
      "Translation: sometimes i only pay for looking .\n",
      "bleu: 0.22062422564614886\n",
      "\n",
      "Input: damn it , no man lives in a vacuum\n",
      "Continuation: `` hell , no man lives in a vacuum !\n",
      "Translation: `` hell , no one lives in a vacuum !\n",
      "bleu: 0.29999998211860657\n",
      "\n",
      "Input: , shit\n",
      "Continuation: , man !\n",
      "Translation: blimey !\n",
      "bleu: 0.3333333134651184\n",
      "\n",
      "Input: you any of this desert ufo lunatics\n",
      "Continuation: you 're any of this desert , dr. crazy ?\n",
      "Translation: y'all some of those desert ufo freaks ?\n",
      "bleu: 0.09999999403953552\n",
      "\n",
      "0.24390245974063873\n"
     ]
    }
   ],
   "source": [
    "bleu(examples, model, device)"
   ]
  },
  {
   "cell_type": "code",
   "execution_count": null,
   "id": "5e25ff44",
   "metadata": {
    "papermill": {
     "duration": 28.139228,
     "end_time": "2023-11-01T02:37:41.589538",
     "exception": false,
     "start_time": "2023-11-01T02:37:13.450310",
     "status": "completed"
    },
    "tags": []
   },
   "outputs": [],
   "source": []
  }
 ],
 "metadata": {
  "kernelspec": {
   "display_name": "Python 3",
   "language": "python",
   "name": "python3"
  },
  "language_info": {
   "codemirror_mode": {
    "name": "ipython",
    "version": 3
   },
   "file_extension": ".py",
   "mimetype": "text/x-python",
   "name": "python",
   "nbconvert_exporter": "python",
   "pygments_lexer": "ipython3",
   "version": "3.10.12"
  },
  "papermill": {
   "default_parameters": {},
   "duration": 15052.60229,
   "end_time": "2023-11-01T02:38:12.823289",
   "environment_variables": {},
   "exception": null,
   "input_path": "__notebook__.ipynb",
   "output_path": "__notebook__.ipynb",
   "parameters": {},
   "start_time": "2023-10-31T22:27:20.220999",
   "version": "2.4.0"
  }
 },
 "nbformat": 4,
 "nbformat_minor": 5
}